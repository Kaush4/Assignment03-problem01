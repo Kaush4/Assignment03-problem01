{
 "cells": [
  {
   "cell_type": "code",
   "execution_count": 26,
   "id": "f099a388",
   "metadata": {},
   "outputs": [
    {
     "name": "stdout",
     "output_type": "stream",
     "text": [
      "Enter the list elements: 8 2 3 0 7\n",
      "Sample list is:  [8, 2, 3, 0, 7]\n",
      "output is:  20\n"
     ]
    }
   ],
   "source": [
    "# Write a Python function to sum all the numbers in a list.\n",
    "\n",
    "# Sample List : (8, 2, 3, 0, 7)\n",
    "# Expected Output : 20\n",
    "    \n",
    "# Explanation: \n",
    "# Summation should like 8+2+3+0+7 = 20\n",
    "# Answer\n",
    "\n",
    "def list_sum(l):\n",
    "    sums= 0\n",
    "    for i in range(len(l)):\n",
    "        sums+= l[i]\n",
    "    return sums\n",
    "l= [int(ele) for ele in input(\"Enter the list elements: \").split()]\n",
    "print(\"Sample list is: \",l)\n",
    "a= list_sum(l)\n",
    "print(\"output is: \",a)"
   ]
  }
 ],
 "metadata": {
  "kernelspec": {
   "display_name": "Python 3 (ipykernel)",
   "language": "python",
   "name": "python3"
  },
  "language_info": {
   "codemirror_mode": {
    "name": "ipython",
    "version": 3
   },
   "file_extension": ".py",
   "mimetype": "text/x-python",
   "name": "python",
   "nbconvert_exporter": "python",
   "pygments_lexer": "ipython3",
   "version": "3.9.12"
  }
 },
 "nbformat": 4,
 "nbformat_minor": 5
}
